{
 "cells": [
  {
   "cell_type": "markdown",
   "metadata": {},
   "source": [
    "# COMP 527: Implementing the k-means clustering algorithm"
   ]
  },
  {
   "cell_type": "markdown",
   "metadata": {},
   "source": [
    "> In the assignment, you are required to cluster words belonging to four categories: animals, countries, fruits and veggies. The words are arranged into four different files. The first entry in each line is a word followed by 300 features (word embedding) describing the meaning of that word."
   ]
  },
  {
   "cell_type": "markdown",
   "metadata": {},
   "source": [
    "## Implementation\n",
    " \n",
    "> (1) Implement the k-means clustering algorithm with Euclidean distance to cluster the instances into k clusters. (30 marks)"
   ]
  },
  {
   "cell_type": "markdown",
   "metadata": {},
   "source": [
    "First we define Word and Dataset classes to handle the data. For the specifics, see the source-code in `kmeans.py`."
   ]
  },
  {
   "cell_type": "code",
   "execution_count": 1,
   "metadata": {},
   "outputs": [],
   "source": [
    "import numpy as np                 # for handling vectors\n",
    "import matplotlib.pyplot as plt    # for plotting results\n",
    "import pandas as pd                # for neatly displaying results in table\n",
    "\n",
    "from kmeans import Word, Dataset   # defined to handle data from files"
   ]
  },
  {
   "cell_type": "code",
   "execution_count": 2,
   "metadata": {},
   "outputs": [
    {
     "name": "stdout",
     "output_type": "stream",
     "text": [
      "Reading in data from animals.\n",
      "Reading in data from countries.\n",
      "Reading in data from fruits.\n",
      "Reading in data from veggies.\n",
      "'cucumber' is already named, but we add it again anyway.\n",
      "You can remove with `.remove('cucumber')`\n"
     ]
    }
   ],
   "source": [
    "words = Dataset(['animals','countries','fruits','veggies'])"
   ]
  },
  {
   "cell_type": "markdown",
   "metadata": {},
   "source": [
    "Then we define a `euclidean_distance()` function."
   ]
  },
  {
   "cell_type": "code",
   "execution_count": 3,
   "metadata": {},
   "outputs": [],
   "source": [
    "def euclidean_distance(u,v):\n",
    "    \"\"\"Return Euclidean distance between two np.array vectors.\"\"\"\n",
    "    \n",
    "    return np.sqrt( (u - v).dot( u - v ))"
   ]
  },
  {
   "cell_type": "code",
   "execution_count": 4,
   "metadata": {},
   "outputs": [
    {
     "name": "stdout",
     "output_type": "stream",
     "text": [
      "1.4142135623730951\n"
     ]
    }
   ],
   "source": [
    "a = np.array([0,1])\n",
    "b = np.array([1,0])\n",
    "print(euclidean_distance(a,b))"
   ]
  },
  {
   "cell_type": "markdown",
   "metadata": {},
   "source": [
    "The Euclidean distance between $[0, 1]$ and $[1,0]$ is, as we would expect, $\\sqrt2$."
   ]
  },
  {
   "cell_type": "code",
   "execution_count": 5,
   "metadata": {},
   "outputs": [],
   "source": [
    "(cucumber_fruit, cucumber_veggie) = words.repeats()[0]"
   ]
  },
  {
   "cell_type": "code",
   "execution_count": 6,
   "metadata": {},
   "outputs": [
    {
     "data": {
      "text/plain": [
       "0.0"
      ]
     },
     "execution_count": 6,
     "metadata": {},
     "output_type": "execute_result"
    }
   ],
   "source": [
    "euclidean_distance(cucumber_fruit.vector, cucumber_veggie.vector)"
   ]
  },
  {
   "cell_type": "markdown",
   "metadata": {},
   "source": [
    "We note that strictly speaking, `euclidean_distance()` is not a well-defined metric on the `words` set of data, since we have two different data-points with zero distance between them: cucumber labelled as fruit, and cucumber labelled as vegetable. (One way of dealing with this would be to somehow treat both cucumbers as a single data-point, but with two labels; another would be to choose one label over the other; yet another would be to remove one of the cucumbers. Here we simply note it, and since it will not unduly affect our algorithm, we continue.)"
   ]
  },
  {
   "cell_type": "markdown",
   "metadata": {},
   "source": [
    "We now define a class to implement the K-Means algorithm."
   ]
  },
  {
   "cell_type": "code",
   "execution_count": 7,
   "metadata": {
    "slideshow": {
     "slide_type": "notes"
    }
   },
   "outputs": [],
   "source": [
    "class KMeans():\n",
    "    \n",
    "    def __init__(\n",
    "                self, \n",
    "                k, \n",
    "                D, \n",
    "                metric = euclidean_distance, \n",
    "                normed = False, \n",
    "                max_iterations = 10**3, \n",
    "                seed = None,\n",
    "                ):\n",
    "        \"\"\"\n",
    "        Initialize KMeans Model.\n",
    "        \n",
    "        Args:\n",
    "            k (int): number of clusters to divide data into.\n",
    "            D (Dataset): as defined by Dataset() class.\n",
    "            metric (function): to measure distance between points.\n",
    "            norm (Boolean): whether or not to normalize vectors.\n",
    "            iterations (int): when to stop if no convergence.\n",
    "            seed (int): for reproducible (pseudo-)randomness.\n",
    "        \"\"\"\n",
    "        \n",
    "        self.k = k\n",
    "        self.D = D\n",
    "        self.normed = normed\n",
    "        if self.normed == True:\n",
    "            self.data = normalize(D.data)\n",
    "        else:\n",
    "            self.data = D.data\n",
    "        \n",
    "        self.metric = metric\n",
    "                \n",
    "        if seed:\n",
    "            self.seed = seed\n",
    "        else:\n",
    "            self.seed = np.random.randint(0, 2**32)\n",
    "        np.random.seed(seed)\n",
    "        \n",
    "        # we track centroid positions and cluster labels in nested dicts,\n",
    "        # of the form dict_name[iteration_number][centroid_number]\n",
    "        self._centroid = {}\n",
    "        \n",
    "        self._cluster = {}\n",
    "\n",
    "        # we record cluster labels explicitly as well\n",
    "        self._label = {}\n",
    "        \n",
    "        self.max_iterations = max_iterations\n",
    "        for i in range(self.max_iterations):\n",
    "            self._iteration = i\n",
    "            self._iterate()\n",
    "            if i > 0 and self._cluster[i] == self._cluster[i-1]:\n",
    "                break\n",
    "        \n",
    "        self.cluster = self._cluster[self._iteration]\n",
    "        self.label = self._label[self._iteration]\n",
    "        \n",
    "        self.convergence = self._iteration + 1\n",
    "        if self.convergence == max_iterations:\n",
    "            self.convergence = np.nan\n",
    "        \n",
    "        self._evaluate()\n",
    "        \n",
    "    def __repr__(self):\n",
    "        \"\"\"Representation of model.\"\"\"\n",
    "        \n",
    "        desc = f\"k = {self.k}\"\n",
    "    \n",
    "    \n",
    "    def _start(self):\n",
    "        \"\"\"Shuffle dataset and position centroids on first k datapoints.\"\"\"\n",
    "        \n",
    "        selected = np.random.permutation(self.data)[0:self.k]\n",
    "        \n",
    "        self._centroid[0] = {}\n",
    "        \n",
    "        for centroid_number in range(self.k):\n",
    "            self._centroid[0][centroid_number] = selected[centroid_number].vector\n",
    "           \n",
    "    \n",
    "    def _classify(self):\n",
    "        \"\"\"Assign each data point to cluster of nearest centroid.\"\"\"\n",
    "        \n",
    "        self._cluster[self._iteration] = {}\n",
    "        self._label[self._iteration] = {}\n",
    "        \n",
    "        for centroid_number in range(self.k):\n",
    "            self._cluster[self._iteration][centroid_number] = []\n",
    "        \n",
    "        for d in self.data:\n",
    "            distances = [] \n",
    "            \n",
    "            for centroid_number in range(self.k):\n",
    "                \n",
    "                distances.append(self.metric(d.vector, self._centroid[self._iteration][centroid_number]))\n",
    "            \n",
    "            closest_centroid = np.argmin(distances)\n",
    "            \n",
    "            self._cluster[self._iteration][closest_centroid].append(d)\n",
    "            self._label[self._iteration][d.name] = closest_centroid\n",
    "        \n",
    "            \n",
    "    def _reposition(self):\n",
    "        \"\"\"Move centroids to mean of each cluster.\"\"\"\n",
    "        \n",
    "        for centroid_number in range(self.k):\n",
    "            self._centroid[self._iteration] = {}\n",
    "        \n",
    "        for centroid_number in range(self.k):\n",
    "            \n",
    "            clustered = self._cluster[self._iteration - 1][centroid_number]\n",
    "            \n",
    "            if len(clustered) > 0:\n",
    "                vector_sum = np.zeros(len(clustered[0].vector))\n",
    "                \n",
    "                for datum in clustered:\n",
    "                    vector_sum += datum.vector\n",
    "\n",
    "                cluster_mean = vector_sum / len(clustered)\n",
    "\n",
    "                self._centroid[self._iteration][centroid_number] = cluster_mean\n",
    "\n",
    "            else:\n",
    "                # nothing assigned to this cluster so position is unchanged\n",
    "                self._centroid[self._iteration][centroid_number] = \\\n",
    "                        self._centroid[self._iteration - 1][centroid_number]\n",
    "           \n",
    "   \n",
    "    def _iterate(self):\n",
    "        \"\"\"Position centroids and classify data by nearest centroid.\"\"\"\n",
    "        \n",
    "        if self._iteration == 0:\n",
    "            self._start()\n",
    "        else:\n",
    "            self._reposition()\n",
    "        \n",
    "        self._classify()\n",
    "            \n",
    "            \n",
    "    def _evaluate(self):\n",
    "        \"\"\"Evaluate success of clustering.\"\"\"\n",
    "        \n",
    "        self.true_positives = 0\n",
    "        self.true_negatives = 0\n",
    "        self.false_positives = 0\n",
    "        self.false_negatives = 0\n",
    "        \n",
    "        data = self.data\n",
    "        \n",
    "        for i in range(len(data)):\n",
    "            for j in range(i+1, len(data)):\n",
    "                if data[i].category == data[j].category \\\n",
    "                and self.label[data[i].name] == self.label[data[j].name]:\n",
    "                    self.true_positives += 1\n",
    "                if data[i].category != data[j].category \\\n",
    "                and self.label[data[i].name] == self.label[data[j].name]:\n",
    "                    self.false_positives += 1\n",
    "                if data[i].category != data[j].category \\\n",
    "                and self.label[data[i].name] != self.label[data[j].name]:\n",
    "                    self.true_negatives += 1\n",
    "                if data[i].category == data[j].category \\\n",
    "                and self.label[data[i].name] != self.label[data[j].name]:\n",
    "                    self.false_negatives += 1\n",
    "                    \n",
    "        \n",
    "        self.precision = self.true_positives / (self.true_positives + self.false_positives)\n",
    "        self.recall = self.true_positives / (self.true_positives + self.false_negatives)\n",
    "        self.f_score = 2 * self.precision * self.recall / (self.precision + self.recall)\n",
    "        \n",
    "        self.score = f'Precision: {self.precision}.\\nRecall: {self.recall}.\\nF-Score: {self.f_score}.\\n'\n",
    "        \n",
    "    def describe(self):\n",
    "        \"\"\"Describe model clusters.\"\"\"\n",
    "        \n",
    "        desc = \"\"\n",
    "        for i in range(self.k):\n",
    "            desc += f\"Cluster {i} includes {len(self.cluster[i])} elements.\\n\"\n",
    "            \n",
    "            count = {}\n",
    "            for category in self.D.categories:\n",
    "                count[category] = 0\n",
    "                for word in self.cluster[i]:\n",
    "                    if word.category == category:\n",
    "                        count[category] += 1\n",
    "                if count[category] > 0:\n",
    "                       desc += f\"{count[category]} are {category}.\\n\"\n",
    "            desc += '\\n'\n",
    "            \n",
    "        print(f'K-Means Model\\n\\nParameters:\\nk={self.k}\\nD={self.D}\\nmetric={self.metric}\\nnormed={self.normed}\\nseed={self.seed}\\n')\n",
    "        print(f'Converged after {self.convergence} iterations.\\n')\n",
    "        print(self.score)\n",
    "        print(desc)"
   ]
  },
  {
   "cell_type": "code",
   "execution_count": 8,
   "metadata": {},
   "outputs": [
    {
     "name": "stdout",
     "output_type": "stream",
     "text": [
      "K-Means Model\n",
      "\n",
      "Parameters:\n",
      "k=4\n",
      "D=Collection of 329 words from 4 categories, with 300-dimensional feature vectors.\n",
      "metric=<function euclidean_distance at 0x7f133fbe0b00>\n",
      "normed=False\n",
      "seed=29\n",
      "\n",
      "Converged after 8 iterations.\n",
      "\n",
      "Precision: 0.9079803630551433.\n",
      "Recall: 0.9074623459607485.\n",
      "F-Score: 0.9077212806026366.\n",
      "\n",
      "Cluster 0 includes 74 elements.\n",
      "22 are fruits.\n",
      "52 are veggies.\n",
      "\n",
      "Cluster 1 includes 48 elements.\n",
      "2 are animals.\n",
      "2 are countries.\n",
      "36 are fruits.\n",
      "8 are veggies.\n",
      "\n",
      "Cluster 2 includes 159 elements.\n",
      "159 are countries.\n",
      "\n",
      "Cluster 3 includes 48 elements.\n",
      "48 are animals.\n",
      "\n",
      "\n"
     ]
    }
   ],
   "source": [
    "clustering = KMeans(k=4, D=words, metric=euclidean_distance, seed=29)\n",
    "clustering.describe()"
   ]
  },
  {
   "cell_type": "markdown",
   "metadata": {},
   "source": [
    "Our implementation appears to be working."
   ]
  },
  {
   "cell_type": "markdown",
   "metadata": {},
   "source": [
    "## Compute Precision, Recall, and F-Score\n",
    "\n",
    "> (2) Vary the value of k from 1 to 10 and compute the precision, recall, and F-score for each set of clusters. Plot k in the horizontal axis and precision, recall and F-score in the vertical axis in the same plot. (10 marks)"
   ]
  },
  {
   "cell_type": "markdown",
   "metadata": {},
   "source": [
    "Since we are asked multiple times for different metrics to vary the value of k, to compute precision/recall/f-scores, and to plot the values, we define a function to do this for us without unnecessary repetition."
   ]
  },
  {
   "cell_type": "code",
   "execution_count": 9,
   "metadata": {},
   "outputs": [],
   "source": [
    "# define functions to avoid repetition while doing requested tasks.\n",
    "\n",
    "def get_scores(max_k, D, metric, normed=False, seed=1):\n",
    "    \"Get model scores for range of values of k.\"\n",
    "    \n",
    "    scores = {}\n",
    "    measures = 'precision', 'recall', 'f_score'\n",
    "    for measure in measures:\n",
    "        scores[measure] = []\n",
    "    model = {}\n",
    "    for k in range(1, max_k+1):\n",
    "        model[k] = KMeans(k=k, D=D, metric=metric, normed=normed, seed=seed)\n",
    "        for measure in measures:\n",
    "            scores[measure].append( getattr(model[k], measure) )\n",
    "            \n",
    "    return scores\n",
    "\n",
    "\n",
    "\n",
    "def show_results(scores):\n",
    "    \"\"\"Plot results for given scores and return scores as table.\"\"\"\n",
    "\n",
    "    measures = 'precision', 'recall', 'f_score'\n",
    "    max_k = len(scores[measures[0]])\n",
    "    \n",
    "    fig, ax = plt.subplots(figsize=(15,8))\n",
    "\n",
    "    for measure in measures:\n",
    "        ax.plot(range(1,max_k + 1), scores[measure], label = measure)\n",
    "\n",
    "    ax.set_xticks(range(1,max_k + 1))\n",
    "    ax.set_xlabel('Number of Clusters (k)')\n",
    "    ax.set_ylabel('Evaluation Score')\n",
    "    ax.set_yticks(np.arange(0,max_k + 1)/max_k)\n",
    "    ax.set_xlim(1,max_k)\n",
    "    ax.set_ylim(0,1.01)\n",
    "    ax.legend()\n",
    "\n",
    "    plt.show()\n",
    "\n",
    "    scores['k'] = list(range(1,10+1))\n",
    "    table = pd.DataFrame(scores).set_index('k')\n",
    "    return table.transpose()"
   ]
  },
  {
   "cell_type": "code",
   "execution_count": 10,
   "metadata": {},
   "outputs": [],
   "source": [
    "# explicitly set seed for reproducible pseudo-randomness\n",
    "seed = 29"
   ]
  },
  {
   "cell_type": "code",
   "execution_count": 11,
   "metadata": {},
   "outputs": [
    {
     "data": {
      "image/png": "[encoded data removed]",
      "text/plain": [
       "<Figure size 1080x576 with 1 Axes>"
      ]
     },
     "metadata": {
      "needs_background": "light"
     },
     "output_type": "display_data"
    },
    {
     "data": {
      "text/html": [
       "<div>\n",
       "<style scoped>\n",
       "    .dataframe tbody tr th:only-of-type {\n",
       "        vertical-align: middle;\n",
       "    }\n",
       "\n",
       "    .dataframe tbody tr th {\n",
       "        vertical-align: top;\n",
       "    }\n",
       "\n",
       "    .dataframe thead th {\n",
       "        text-align: right;\n",
       "    }\n",
       "</style>\n",
       "<table border=\"1\" class=\"dataframe\">\n",
       "  <thead>\n",
       "    <tr style=\"text-align: right;\">\n",
       "      <th>k</th>\n",
       "      <th>1</th>\n",
       "      <th>2</th>\n",
       "      <th>3</th>\n",
       "      <th>4</th>\n",
       "      <th>5</th>\n",
       "      <th>6</th>\n",
       "      <th>7</th>\n",
       "      <th>8</th>\n",
       "      <th>9</th>\n",
       "      <th>10</th>\n",
       "    </tr>\n",
       "  </thead>\n",
       "  <tbody>\n",
       "    <tr>\n",
       "      <th>precision</th>\n",
       "      <td>0.324857</td>\n",
       "      <td>0.651405</td>\n",
       "      <td>0.824335</td>\n",
       "      <td>0.907980</td>\n",
       "      <td>0.907656</td>\n",
       "      <td>0.901078</td>\n",
       "      <td>0.905081</td>\n",
       "      <td>0.933899</td>\n",
       "      <td>0.927248</td>\n",
       "      <td>0.911342</td>\n",
       "    </tr>\n",
       "    <tr>\n",
       "      <th>recall</th>\n",
       "      <td>1.000000</td>\n",
       "      <td>1.000000</td>\n",
       "      <td>0.930340</td>\n",
       "      <td>0.907462</td>\n",
       "      <td>0.574224</td>\n",
       "      <td>0.462517</td>\n",
       "      <td>0.400388</td>\n",
       "      <td>0.395767</td>\n",
       "      <td>0.357029</td>\n",
       "      <td>0.325479</td>\n",
       "    </tr>\n",
       "    <tr>\n",
       "      <th>f_score</th>\n",
       "      <td>0.490403</td>\n",
       "      <td>0.788910</td>\n",
       "      <td>0.874136</td>\n",
       "      <td>0.907721</td>\n",
       "      <td>0.703428</td>\n",
       "      <td>0.611272</td>\n",
       "      <td>0.555178</td>\n",
       "      <td>0.555938</td>\n",
       "      <td>0.515550</td>\n",
       "      <td>0.479654</td>\n",
       "    </tr>\n",
       "  </tbody>\n",
       "</table>\n",
       "</div>"
      ],
      "text/plain": [
       "k                1         2         3         4         5         6   \\\n",
       "precision  0.324857  0.651405  0.824335  0.907980  0.907656  0.901078   \n",
       "recall     1.000000  1.000000  0.930340  0.907462  0.574224  0.462517   \n",
       "f_score    0.490403  0.788910  0.874136  0.907721  0.703428  0.611272   \n",
       "\n",
       "k                7         8         9         10  \n",
       "precision  0.905081  0.933899  0.927248  0.911342  \n",
       "recall     0.400388  0.395767  0.357029  0.325479  \n",
       "f_score    0.555178  0.555938  0.515550  0.479654  "
      ]
     },
     "execution_count": 11,
     "metadata": {},
     "output_type": "execute_result"
    }
   ],
   "source": [
    "show_results(get_scores(max_k=10, D=words, metric=euclidean_distance, seed=seed))"
   ]
  },
  {
   "cell_type": "markdown",
   "metadata": {},
   "source": [
    "## Normalize\n",
    "\n",
    "> (3) Now re-run the k-means clustering algorithm you implemented in part (1) but normalise each feature vector to unit $ L_2 $ length before computing Euclidean distances. Vary the value of k from 1 to 10 and compute the precision, recall, and F-score for each set of clusters. Plot k in the horizontal axis and precision, recall and F-score in the vertical axis in the same plot. (10 marks)"
   ]
  },
  {
   "cell_type": "markdown",
   "metadata": {},
   "source": [
    "We define a function to normalize each feature vector to  unit $ L_2 $ length."
   ]
  },
  {
   "cell_type": "code",
   "execution_count": 12,
   "metadata": {},
   "outputs": [],
   "source": [
    "def normalize(data):\n",
    "    \"\"\"Return normalized vectors (ie. parallel vector with unit magnitude).\"\"\"\n",
    "    \n",
    "    normalized_data = []\n",
    "    \n",
    "    for d in data:\n",
    "        normalized_vector = d.vector / np.sqrt( d.vector.dot(d.vector) )\n",
    "        normalized_data.append(Word(d.name, normalized_vector, d.category))\n",
    "        \n",
    "    return normalized_data"
   ]
  },
  {
   "cell_type": "code",
   "execution_count": 13,
   "metadata": {},
   "outputs": [
    {
     "name": "stdout",
     "output_type": "stream",
     "text": [
      "Original Vector Magnitudes\n",
      "elephant's vector has magnitude 6.4487564189517705\n",
      "leopard's vector has magnitude 7.139715219834713\n",
      "dog's vector has magnitude 7.689131355830199\n",
      "...\n",
      "Normalized Vector Magnitudes\n",
      "elephant's vector has magnitude 0.9999999999999999\n",
      "leopard's vector has magnitude 0.9999999999999999\n",
      "dog's vector has magnitude 0.9999999999999999\n",
      "...\n"
     ]
    }
   ],
   "source": [
    "print('Original Vector Magnitudes')\n",
    "for word in words.data[:3]:\n",
    "    print(f\"{word.name}'s vector has magnitude {np.sqrt(word.dot(word))}\" )\n",
    "print('...')\n",
    "\n",
    "print('Normalized Vector Magnitudes')\n",
    "for word in normalize(words.data)[:3]:\n",
    "    print(f\"{word.name}'s vector has magnitude {np.sqrt(word.dot(word))}\" )\n",
    "print('...')"
   ]
  },
  {
   "cell_type": "markdown",
   "metadata": {},
   "source": [
    "Our `normalize()` function seems to be working."
   ]
  },
  {
   "cell_type": "code",
   "execution_count": 14,
   "metadata": {},
   "outputs": [
    {
     "data": {
      "image/png": "[encoded data removed]",
      "text/plain": [
       "<Figure size 1080x576 with 1 Axes>"
      ]
     },
     "metadata": {
      "needs_background": "light"
     },
     "output_type": "display_data"
    },
    {
     "data": {
      "text/html": [
       "<div>\n",
       "<style scoped>\n",
       "    .dataframe tbody tr th:only-of-type {\n",
       "        vertical-align: middle;\n",
       "    }\n",
       "\n",
       "    .dataframe tbody tr th {\n",
       "        vertical-align: top;\n",
       "    }\n",
       "\n",
       "    .dataframe thead th {\n",
       "        text-align: right;\n",
       "    }\n",
       "</style>\n",
       "<table border=\"1\" class=\"dataframe\">\n",
       "  <thead>\n",
       "    <tr style=\"text-align: right;\">\n",
       "      <th>k</th>\n",
       "      <th>1</th>\n",
       "      <th>2</th>\n",
       "      <th>3</th>\n",
       "      <th>4</th>\n",
       "      <th>5</th>\n",
       "      <th>6</th>\n",
       "      <th>7</th>\n",
       "      <th>8</th>\n",
       "      <th>9</th>\n",
       "      <th>10</th>\n",
       "    </tr>\n",
       "  </thead>\n",
       "  <tbody>\n",
       "    <tr>\n",
       "      <th>precision</th>\n",
       "      <td>0.324857</td>\n",
       "      <td>0.651405</td>\n",
       "      <td>0.746907</td>\n",
       "      <td>0.638675</td>\n",
       "      <td>0.864610</td>\n",
       "      <td>0.856636</td>\n",
       "      <td>0.867821</td>\n",
       "      <td>0.968761</td>\n",
       "      <td>0.960047</td>\n",
       "      <td>0.959279</td>\n",
       "    </tr>\n",
       "    <tr>\n",
       "      <th>recall</th>\n",
       "      <td>1.000000</td>\n",
       "      <td>1.000000</td>\n",
       "      <td>0.909174</td>\n",
       "      <td>0.544557</td>\n",
       "      <td>0.559619</td>\n",
       "      <td>0.509984</td>\n",
       "      <td>0.486194</td>\n",
       "      <td>0.482999</td>\n",
       "      <td>0.374258</td>\n",
       "      <td>0.340027</td>\n",
       "    </tr>\n",
       "    <tr>\n",
       "      <th>f_score</th>\n",
       "      <td>0.490403</td>\n",
       "      <td>0.788910</td>\n",
       "      <td>0.820091</td>\n",
       "      <td>0.587873</td>\n",
       "      <td>0.679458</td>\n",
       "      <td>0.639345</td>\n",
       "      <td>0.623227</td>\n",
       "      <td>0.644611</td>\n",
       "      <td>0.538566</td>\n",
       "      <td>0.502085</td>\n",
       "    </tr>\n",
       "  </tbody>\n",
       "</table>\n",
       "</div>"
      ],
      "text/plain": [
       "k                1         2         3         4         5         6   \\\n",
       "precision  0.324857  0.651405  0.746907  0.638675  0.864610  0.856636   \n",
       "recall     1.000000  1.000000  0.909174  0.544557  0.559619  0.509984   \n",
       "f_score    0.490403  0.788910  0.820091  0.587873  0.679458  0.639345   \n",
       "\n",
       "k                7         8         9         10  \n",
       "precision  0.867821  0.968761  0.960047  0.959279  \n",
       "recall     0.486194  0.482999  0.374258  0.340027  \n",
       "f_score    0.623227  0.644611  0.538566  0.502085  "
      ]
     },
     "execution_count": 14,
     "metadata": {},
     "output_type": "execute_result"
    }
   ],
   "source": [
    "show_results(get_scores(max_k=10, D=words, metric=euclidean_distance, normed=True, seed=seed))"
   ]
  },
  {
   "cell_type": "markdown",
   "metadata": {},
   "source": [
    "## Manhattan Distance\n",
    "\n",
    "> (4) Now re-run the k-means clustering algorithm you implemented in part (1) but this time use Manhattan distance over the unnormalised feature vectors. Vary the value of k from 1 to 10\n",
    "and compute the precision, recall, and F-score for each set of clusters. Plot k in the horizontal axis and precision, recall and F-score in the vertical axis in the same plot. (10 marks)"
   ]
  },
  {
   "cell_type": "markdown",
   "metadata": {},
   "source": [
    "We define a `manhattan_distance()` function:"
   ]
  },
  {
   "cell_type": "code",
   "execution_count": 15,
   "metadata": {},
   "outputs": [],
   "source": [
    "def manhattan_distance(u,v):\n",
    "    \"\"\"Return Manhattan distance between two np.array vectors.\"\"\"\n",
    "    \n",
    "    w = u - v\n",
    "    distance = 0\n",
    "    for x in w:\n",
    "        distance += abs(x)\n",
    "    \n",
    "    return distance"
   ]
  },
  {
   "cell_type": "code",
   "execution_count": 16,
   "metadata": {},
   "outputs": [
    {
     "name": "stdout",
     "output_type": "stream",
     "text": [
      "[0 1]\n",
      "[1 0]\n",
      "2\n"
     ]
    }
   ],
   "source": [
    "print(a)\n",
    "print(b)\n",
    "print(manhattan_distance(a,b))"
   ]
  },
  {
   "cell_type": "markdown",
   "metadata": {},
   "source": [
    "Our implementation appears to work: the distance between $[0,1]$ and $[1,0]$ is, as we would expect, $ 2 $."
   ]
  },
  {
   "cell_type": "code",
   "execution_count": null,
   "metadata": {},
   "outputs": [],
   "source": [
    "show_results(get_scores(max_k=10, D=words, metric=manhattan_distance, normed=False, seed=seed))"
   ]
  },
  {
   "cell_type": "markdown",
   "metadata": {},
   "source": [
    "## Normalized Manhattan Distance\n",
    "\n",
    "> (5) Now re-run the k-means clustering algorithm you implemented in part (1) but this time use Manhattan distance with $ L_2 $ normalised feature vectors. Vary the value of k from 1 to 10 and\n",
    "compute the precision, recall, and F-score for each set of clusters. Plot k in the horizontal axis and precision, recall and F-score in the vertical axis in the same plot. (10 marks)"
   ]
  },
  {
   "cell_type": "code",
   "execution_count": null,
   "metadata": {},
   "outputs": [],
   "source": [
    "show_results(get_scores(max_k=10, D=words, metric=manhattan_distance, normed=True, seed=seed))"
   ]
  },
  {
   "cell_type": "markdown",
   "metadata": {},
   "source": [
    "##  Cosine Similarity\n",
    "\n",
    "> (6) Now re-run the k-means clustering algorithm you implemented in part (1) but this time use cosine similarity as the distance (similarity) measure.Vary the value of k from 1 to 10 andcompute the precision, recall, and F-score for each set of clusters. Plot k in the horizontal axis and precision, recall and F-score in the vertical axis in the same plot. (10 marks)"
   ]
  },
  {
   "cell_type": "markdown",
   "metadata": {},
   "source": [
    "Using cosine similarity directly with our k-means clustering algorithm will not work properly, as it is a *similarity measure* rather than a *distance measure*."
   ]
  },
  {
   "cell_type": "code",
   "execution_count": null,
   "metadata": {},
   "outputs": [],
   "source": [
    "def cosine_similarity(u, v):\n",
    "    \"\"\"Return cosine similarity of two np.array vectors.\"\"\"\n",
    "    \n",
    "    if np.array_equal(u, v):\n",
    "        # we specify this to avoid rounding errors\n",
    "        cos_theta = 1\n",
    "    else:\n",
    "        cos_theta = u.dot(v)/( np.sqrt(u.dot(u)) * np.sqrt(v.dot(v)) )\n",
    "    \n",
    "    return cos_theta"
   ]
  },
  {
   "cell_type": "code",
   "execution_count": null,
   "metadata": {},
   "outputs": [],
   "source": [
    "print(cosine_similarity(a,a))\n",
    "print(cosine_similarity(a,b))"
   ]
  },
  {
   "cell_type": "markdown",
   "metadata": {},
   "source": [
    "Our clustering algorithm relies upon a distance metric such that $ d(x,y) \\to 0 $ as $ y \\to x $, whereas cosine similarity gives us $sim(x,y) \\to 1$ as $y \\to x$."
   ]
  },
  {
   "cell_type": "markdown",
   "metadata": {},
   "source": [
    "Rather than rewriting our k-means algorithm, we will instead define `angular_distance()` in terms of `cosine_similarity()` and use that as our metric."
   ]
  },
  {
   "cell_type": "code",
   "execution_count": null,
   "metadata": {},
   "outputs": [],
   "source": [
    "def angular_distance(u, v):\n",
    "    \"\"\"Return angular distance between two np.array vectors.\"\"\"\n",
    "\n",
    "    cos_theta = cosine_similarity(u, v)\n",
    "\n",
    "    theta = np.arccos(cos_theta)\n",
    "    \n",
    "    if theta < 0:\n",
    "        theta += 2 * np.pi\n",
    "    \n",
    "    return theta"
   ]
  },
  {
   "cell_type": "code",
   "execution_count": null,
   "metadata": {},
   "outputs": [],
   "source": [
    "print(a)\n",
    "print(b)\n",
    "print(angular_distance(a,a))\n",
    "print(angular_distance(b,b))\n",
    "print(angular_distance(a,b))"
   ]
  },
  {
   "cell_type": "markdown",
   "metadata": {},
   "source": [
    "Having seen that `angular_distance()` behaves suitably, we then plot its results."
   ]
  },
  {
   "cell_type": "code",
   "execution_count": null,
   "metadata": {},
   "outputs": [],
   "source": [
    "show_results(get_scores(max_k = 10, D=words, metric=angular_distance, seed=seed))"
   ]
  },
  {
   "cell_type": "markdown",
   "metadata": {},
   "source": [
    "## Compare and Discuss"
   ]
  },
  {
   "cell_type": "markdown",
   "metadata": {},
   "source": [
    "> (7) Comparing the different clusterings you obtained in (2)-(6) discuss what is the best setting for k-means clustering for this dataset. (20 marks)"
   ]
  },
  {
   "cell_type": "code",
   "execution_count": null,
   "metadata": {},
   "outputs": [],
   "source": [
    "def compare_metrics(seed):\n",
    "    \"\"\"Return results for all metrics (normed and not), given seed.\"\"\"\n",
    "    \n",
    "    metrics = euclidean_distance, manhattan_distance, angular_distance\n",
    "    \n",
    "    normed = False, True\n",
    "    \n",
    "    results = {}\n",
    "    \n",
    "    for m in metrics:\n",
    "        for boolean in normed:\n",
    "            if (m == angular_distance) and (boolean == True):\n",
    "                # don't need to take norm for angular_distance\n",
    "                pass\n",
    "            else:\n",
    "                results[f'{m.__name__}, normed={boolean}'] =\\\n",
    "                KMeans(k=4, D=words, metric=m, normed=boolean, max_iterations=100, seed=seed).f_score\n",
    "    \n",
    "    return results"
   ]
  },
  {
   "cell_type": "code",
   "execution_count": null,
   "metadata": {},
   "outputs": [],
   "source": [
    "results = compare_metrics(seed)"
   ]
  },
  {
   "cell_type": "code",
   "execution_count": null,
   "metadata": {},
   "outputs": [],
   "source": [
    "print(f'\\nWith a randomising seed of {seed}, our best f-score was given by {max(results, key=lambda key: results[key])}')\n",
    "pd.DataFrame(results,index=['f_score'])"
   ]
  },
  {
   "cell_type": "markdown",
   "metadata": {},
   "source": [
    "We know that our data should divide into four categories, so we are primarily interested in the case k=4. It seems like the best f-score is clearly given by `euclidean_distance()` when the data is not first regularized with the $ L_2 $ norm. Looking at the plots, we also see that this is the only case where the f-score peaks at k=4.\n",
    "\n",
    "So *based on the clusterings obtained in tasks (2)-(6), that would seem to be the best setting for k-means clustering for this dataset*."
   ]
  },
  {
   "cell_type": "markdown",
   "metadata": {},
   "source": [
    "*However*, such a conclusion would not account for the possibility of our results being due to the idiosynchrasies of the initial random centroid positions.\n",
    "\n",
    "We can investigate whether this is the case"
   ]
  },
  {
   "cell_type": "code",
   "execution_count": null,
   "metadata": {},
   "outputs": [],
   "source": [
    "seeded_results = {}\n",
    "for i in range(30):\n",
    "    seeded_results[i] = select_best_setting(i)"
   ]
  },
  {
   "cell_type": "code",
   "execution_count": null,
   "metadata": {},
   "outputs": [],
   "source": [
    "table = pd.DataFrame(seeded_results)\n",
    "table.transpose().plot(figsize=(15,8))"
   ]
  },
  {
   "cell_type": "code",
   "execution_count": null,
   "metadata": {},
   "outputs": [],
   "source": [
    "t = table.transpose()\n",
    "t['best'] = table.idxmax(axis=0)\n",
    "t.index.name = ('seed')\n",
    "t.boxplot(figsize=(15,8), rot=30, fontsize='large')\n",
    "plt.show()\n",
    "print(t['best'].value_counts())\n",
    "t"
   ]
  },
  {
   "cell_type": "code",
   "execution_count": null,
   "metadata": {},
   "outputs": [],
   "source": []
  }
 ],
 "metadata": {
  "kernelspec": {
   "display_name": "Python 3",
   "language": "python",
   "name": "python3"
  },
  "language_info": {
   "codemirror_mode": {
    "name": "ipython",
    "version": 3
   },
   "file_extension": ".py",
   "mimetype": "text/x-python",
   "name": "python",
   "nbconvert_exporter": "python",
   "pygments_lexer": "ipython3",
   "version": "3.7.6"
  }
 },
 "nbformat": 4,
 "nbformat_minor": 4
}
